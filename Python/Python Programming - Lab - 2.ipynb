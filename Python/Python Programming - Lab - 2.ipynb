{
 "cells": [
  {
   "cell_type": "markdown",
   "metadata": {},
   "source": [
    "\n",
    "<a href='https://www.darshan.ac.in/'> <img src='https://www.darshan.ac.in/Content/media/DU_Logo.svg' width=\"250\" height=\"300\"/></a>\n",
    "<pre>\n",
    "<center><b><h1>Python Programming - 2101CS405</b></center>\n",
    "<center><b><h1>Lab - 2</b></center>    \n",
    "<pre>"
   ]
  },
  {
   "cell_type": "markdown",
   "metadata": {},
   "source": [
    "# if..else.."
   ]
  },
  {
   "cell_type": "markdown",
   "metadata": {},
   "source": [
    "### 01) WAP to check whether the given number is positive or negative."
   ]
  },
  {
   "cell_type": "code",
   "execution_count": 1,
   "metadata": {},
   "outputs": [
    {
     "name": "stdout",
     "output_type": "stream",
     "text": [
      "Number is Positive\n"
     ]
    }
   ],
   "source": [
    "x=int(input(\"Enter Number : \"))\n",
    "if(x>=0):\n",
    "    print(\"Number is Positive\")\n",
    "else:\n",
    "    print(\"Number is Negative\")"
   ]
  },
  {
   "cell_type": "markdown",
   "metadata": {},
   "source": [
    "### 02) WAP to check whether the given number is odd or even"
   ]
  },
  {
   "cell_type": "code",
   "execution_count": 2,
   "metadata": {},
   "outputs": [
    {
     "name": "stdout",
     "output_type": "stream",
     "text": [
      "Number is even\n"
     ]
    }
   ],
   "source": [
    "x=int(input('Enter Number'))\n",
    "if(x%2==0):\n",
    "    print('Number is even')\n",
    "else:\n",
    "    print('Number is odd')"
   ]
  },
  {
   "cell_type": "markdown",
   "metadata": {},
   "source": [
    "### 03) WAP to find out largest number from given two numbers using simple if and ternary operator."
   ]
  },
  {
   "cell_type": "code",
   "execution_count": 3,
   "metadata": {},
   "outputs": [
    {
     "name": "stdout",
     "output_type": "stream",
     "text": [
      "no2 is Big\n",
      "No2 is big\n"
     ]
    }
   ],
   "source": [
    "x=int(input('Enter No1 : '))\n",
    "y=int(input('Enter No2 : '))\n",
    "if(x>y):\n",
    "    print('No1 is Big')\n",
    "else:\n",
    "    print('no2 is Big')\n",
    "print('No1 is big' if x>y else 'No2 is big')"
   ]
  },
  {
   "cell_type": "markdown",
   "metadata": {},
   "source": [
    "### 04) WAP to find out largest number from given three numbers."
   ]
  },
  {
   "cell_type": "code",
   "execution_count": 4,
   "metadata": {},
   "outputs": [
    {
     "name": "stdout",
     "output_type": "stream",
     "text": [
      "No3 is big\n"
     ]
    }
   ],
   "source": [
    "x=int(input('Enter No1 : '))\n",
    "y=int(input('Enter No2 : '))\n",
    "z=int(input('Enter No3 : '))\n",
    "\n",
    "if(x>y and x>z):\n",
    "    print('No1 is big')\n",
    "elif(y>x and y>z):\n",
    "    print('No2 is big')\n",
    "else:\n",
    "    print('No3 is big')"
   ]
  },
  {
   "cell_type": "markdown",
   "metadata": {},
   "source": [
    "### 05) WAP to check whether the given year is leap year or not.\n",
    "[If a year can be divisible by 4 but not divisible by 100 then it is leap year but if it is divisible by 400 then it is leap year]"
   ]
  },
  {
   "cell_type": "code",
   "execution_count": 5,
   "metadata": {},
   "outputs": [
    {
     "name": "stdout",
     "output_type": "stream",
     "text": [
      "not leap year\n"
     ]
    }
   ],
   "source": [
    "x=int(input(\"Enter Year : \"))\n",
    "\n",
    "if(x%4==0):\n",
    "    if(x%100==0 and (x%400!=0)):\n",
    "        print('not leap year')\n",
    "    else:\n",
    "        print('leap year')\n",
    "else:\n",
    "    print('not leap year')"
   ]
  },
  {
   "cell_type": "markdown",
   "metadata": {},
   "source": [
    "### 06) WAP in python to display the name of the day according to the number given by the user"
   ]
  },
  {
   "cell_type": "code",
   "execution_count": 26,
   "metadata": {},
   "outputs": [
    {
     "name": "stdout",
     "output_type": "stream",
     "text": [
      "Friday\n"
     ]
    }
   ],
   "source": [
    "x=int(input(\"Enter Number : \"))\n",
    "\n",
    "if(x==1):print(\"Monday\")\n",
    "elif(x==2):print(\"Tuesday\")\n",
    "elif(x==3):print(\"wednesday\")\n",
    "elif(x==4):print(\"Thursday\")\n",
    "elif(x==5):print(\"Friday\")\n",
    "elif(x==6):print(\"Saturday\")\n",
    "elif(x==7):print(\"Sunday\")\n",
    "else:print(\"invalid input\")\n"
   ]
  },
  {
   "cell_type": "markdown",
   "metadata": {},
   "source": [
    "### 07) WAP to implement simple calculator which performs (add,sub,mul,div) of two no. based on user input."
   ]
  },
  {
   "cell_type": "code",
   "execution_count": 27,
   "metadata": {},
   "outputs": [
    {
     "name": "stdout",
     "output_type": "stream",
     "text": [
      "mul =  8\n"
     ]
    }
   ],
   "source": [
    "no1=int(input(\"Enter No1 = \"))\n",
    "no2=int(input(\"Enter No2 = \"))\n",
    "x=int(input(\"Enter Choice 1:sum\\n2:sub\\n3:mul\\n4:div\"))\n",
    "\n",
    "if(x==1):print(\"Sum = \",no1+no2)\n",
    "elif(x==2):print(\"Sub = \",no1-no2)\n",
    "elif(x==3):print(\"mul = \",no1*no2)\n",
    "elif(x==4):print(\"div = \",no1/no2)\n",
    "else:print(\"invalid choice\")"
   ]
  },
  {
   "cell_type": "markdown",
   "metadata": {},
   "source": [
    "### 08) WAP to calculate electricity bill based on following criteria. Which takes the unit from the user.\n",
    "a. First 1 to 50 units – Rs. 2.60/unit</br>\n",
    "b. Next 50 to 100 units – Rs. 3.25/unit</br>\n",
    "c. Next 100 to 200 units – Rs. 5.26/unit</br>\n",
    "d. above 200 units – Rs. 8.45/unit"
   ]
  },
  {
   "cell_type": "code",
   "execution_count": 28,
   "metadata": {},
   "outputs": [
    {
     "name": "stdout",
     "output_type": "stream",
     "text": [
      "Pay :  789.0\n"
     ]
    }
   ],
   "source": [
    "unit = int(input(\"How many unit use : \"))\n",
    "\n",
    "if(unit>=1 and unit <50):print(\"Pay : \",unit*2.60)\n",
    "elif(unit>=50 and unit <100):print(\"Pay : \",unit*3.25)\n",
    "elif(unit>=100 and unit<200):print(\"Pay : \",unit*5.26)\n",
    "elif(unit>=200):print(\"Pay : \",unit*8.45)\n",
    "else:print(\"invalid input\")"
   ]
  },
  {
   "cell_type": "markdown",
   "metadata": {},
   "source": [
    "### 01) WAP to read marks of five subjects. Calculate percentage and print class accordingly. \n",
    "Fail below 35 </br>\n",
    "Pass Class between 35 to 45 </br>\n",
    "Second Class</br>\n",
    "between 45 to 60</br>\n",
    "First Class between 60 to 70</br> \n",
    "Distinction if more than 70"
   ]
  },
  {
   "cell_type": "code",
   "execution_count": 29,
   "metadata": {},
   "outputs": [
    {
     "name": "stdout",
     "output_type": "stream",
     "text": [
      "First Class\n"
     ]
    }
   ],
   "source": [
    "mark = int(input(\"Enter Mark : \"))\n",
    "\n",
    "if(mark<35):print(\"Fail\")\n",
    "elif(mark>=35 and mark<45):print(\"Pass\")\n",
    "elif(mark>=45 and mark<60):print(\"Second Class\")\n",
    "elif(mark>=60 and mark<70):print(\"First Class\")\n",
    "elif(mark>=70 and mark<=100):print(\"Distiction\")\n",
    "else:print(\"invalid Mark\")"
   ]
  },
  {
   "cell_type": "markdown",
   "metadata": {},
   "source": [
    "### 02) WAP to find out the Maximum and Minimum number from given 4 numbers."
   ]
  },
  {
   "cell_type": "code",
   "execution_count": 4,
   "metadata": {},
   "outputs": [
    {
     "name": "stdout",
     "output_type": "stream",
     "text": [
      "No3 is maximum\n",
      "No2 is minimum\n"
     ]
    }
   ],
   "source": [
    "no1=int(input(\"Enter No1 : \"))\n",
    "no2=int(input(\"Enter No2 : \"))\n",
    "no3=int(input(\"Enter No3 : \"))\n",
    "no4=int(input(\"Enter No4 : \"))\n",
    "max = max(no1, no2, no3, no4)\n",
    "min = min(no1,no2,no3,no4)\n",
    "print('No1 is maximum' if no1==max else ('No2 is maximum' if no2==max else ('No3 is maximum' if no3==max else ('No4 is maximum'))))\n",
    "print('No1 is minimum' if no1==min else ('No2 is minimum' if no2==min else ('No3 is minimum' if no3==min else ('No4 is minimum'))))\n",
    "\n"
   ]
  },
  {
   "cell_type": "markdown",
   "metadata": {},
   "source": [
    "### 03) WAP to input an integer number and check the last digit of number is even or odd."
   ]
  },
  {
   "cell_type": "code",
   "execution_count": 1,
   "metadata": {},
   "outputs": [
    {
     "name": "stdout",
     "output_type": "stream",
     "text": [
      "9  is odd\n"
     ]
    }
   ],
   "source": [
    "x=int(input(\"Enter No : \"))\n",
    "while(x>9):\n",
    "    x=x%10\n",
    "\n",
    "if(x%2==0):print(x,\" is even\")\n",
    "else:print(x,\" is odd\")"
   ]
  },
  {
   "cell_type": "markdown",
   "metadata": {},
   "source": [
    "### 04) WAP to determine the roots of the equation ax2+bx+c=0."
   ]
  },
  {
   "cell_type": "code",
   "execution_count": 7,
   "metadata": {},
   "outputs": [
    {
     "name": "stdout",
     "output_type": "stream",
     "text": [
      "root 1 :  -2.0\n",
      "root 2 :  -3.0\n"
     ]
    }
   ],
   "source": [
    "import math\n",
    "a=int(input(\"Enter a : \"))\n",
    "b=int(input(\"Enter b : \"))\n",
    "c=int(input(\"Enter c : \"))\n",
    "\n",
    "D=math.sqrt((b*b)-(4*a*c))\n",
    "\n",
    "x=(-b+D)/2*a\n",
    "y=(-b-D)/2*a\n",
    "print(\"root 1 : \",x)\n",
    "print(\"root 2 : \",y)\n"
   ]
  }
 ],
 "metadata": {
  "kernelspec": {
   "display_name": "Python 3 (ipykernel)",
   "language": "python",
   "name": "python3"
  },
  "language_info": {
   "codemirror_mode": {
    "name": "ipython",
    "version": 3
   },
   "file_extension": ".py",
   "mimetype": "text/x-python",
   "name": "python",
   "nbconvert_exporter": "python",
   "pygments_lexer": "ipython3",
   "version": "3.9.13"
  }
 },
 "nbformat": 4,
 "nbformat_minor": 4
}
