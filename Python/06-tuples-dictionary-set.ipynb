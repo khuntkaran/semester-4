{
 "cells": [
  {
   "cell_type": "markdown",
   "metadata": {},
   "source": [
    "<a href='https://www.darshan.ac.in/'> <img src='https://www.darshan.ac.in/Content/media/DU_Logo.svg' width=\"250\" height=\"300\"/></a>\n",
    "<pre>\n",
    "<center><b><h1>Python Programming - 2101CS405</b></center>\n",
    "<center><b><h1>Lab - 6</b></center>    \n",
    "<pre>"
   ]
  },
  {
   "cell_type": "markdown",
   "metadata": {},
   "source": [
    "# Tuples, dictionary, set"
   ]
  },
  {
   "cell_type": "markdown",
   "metadata": {},
   "source": [
    "# A"
   ]
  },
  {
   "cell_type": "markdown",
   "metadata": {},
   "source": [
    "### 01) WAP to sort python dictionary by key or value."
   ]
  },
  {
   "cell_type": "code",
   "execution_count": 5,
   "metadata": {},
   "outputs": [
    {
     "name": "stdout",
     "output_type": "stream",
     "text": [
      "{1: 'abc', 2: 'xyz', 3: 'pqr'}\n",
      "{1: 'abc', 3: 'pqr', 2: 'xyz'}\n"
     ]
    }
   ],
   "source": [
    "dic={2:'xyz',1:'abc',3:'pqr'}\n",
    "\n",
    "dic=sorted(dic.items())\n",
    "dic=dict(dic)\n",
    "print(dic)\n",
    "\n",
    "dic=sorted(dic.items(),key=lambda x:x[1])\n",
    "dic=dict(dic)\n",
    "print(dic)"
   ]
  },
  {
   "cell_type": "markdown",
   "metadata": {},
   "source": [
    "### 02) WAP to merge two dictionaries given by user."
   ]
  },
  {
   "cell_type": "code",
   "execution_count": 1,
   "metadata": {},
   "outputs": [
    {
     "name": "stdout",
     "output_type": "stream",
     "text": [
      "Enter add Element : 1\n",
      "Enter name : karan\n",
      "Enter age : 19\n",
      "Enter add Element : 2\n",
      "Enter name : diveysh\n",
      "Enter age : 2\n",
      "Enter name : gautam\n",
      "Enter age : 20\n",
      "{'karan': 19, 'diveysh': 2, 'gautam': 20}\n"
     ]
    }
   ],
   "source": [
    "dic1={}\n",
    "x=int(input(\"Enter add Element : \"))\n",
    "for i in range(x):\n",
    "    name=input(\"Enter name : \")\n",
    "    age=int(input(\"Enter age : \"))\n",
    "    dic1[name]=age\n",
    "\n",
    "dic2={}\n",
    "y=int(input(\"Enter add Element : \"))\n",
    "for i in range(y):\n",
    "    name=input(\"Enter name : \")\n",
    "    age=int(input(\"Enter age : \"))\n",
    "    dic2[name]=age\n",
    "    \n",
    "print(dic1|dic2)"
   ]
  },
  {
   "cell_type": "markdown",
   "metadata": {},
   "source": [
    "### 03) WAP to find tuples that have all elements divisible by K from a list of tuples."
   ]
  },
  {
   "cell_type": "code",
   "execution_count": 18,
   "metadata": {},
   "outputs": [
    {
     "name": "stdout",
     "output_type": "stream",
     "text": [
      "[(10, 20)]\n"
     ]
    }
   ],
   "source": [
    "k=2\n",
    "\n",
    "l1=[(-1,-5,),(8,-9),(6,7),(10,20)]\n",
    "\n",
    "x=list( i for i in l1 if all(j%k==0 for j in i) )\n",
    "print(x)"
   ]
  },
  {
   "cell_type": "markdown",
   "metadata": {},
   "source": [
    "### 04) WAP to find Tuples with positive elements in List of tuples."
   ]
  },
  {
   "cell_type": "code",
   "execution_count": 17,
   "metadata": {},
   "outputs": [
    {
     "name": "stdout",
     "output_type": "stream",
     "text": [
      "[(6, 7), (10, 20)]\n"
     ]
    }
   ],
   "source": [
    "l1=[(-1,-5,),(8,-9),(6,7),(10,20)]\n",
    "\n",
    "x=list( i for i in l1 if all(j>=0 for j in i) )\n",
    "print(x)"
   ]
  },
  {
   "cell_type": "markdown",
   "metadata": {},
   "source": [
    "### 05) WAP which perform union of two sets."
   ]
  },
  {
   "cell_type": "code",
   "execution_count": 15,
   "metadata": {},
   "outputs": [
    {
     "name": "stdout",
     "output_type": "stream",
     "text": [
      "{1, 2, 3, 4, 5}\n"
     ]
    }
   ],
   "source": [
    "dic1={1,2,3}\n",
    "dic2={3,4,5}\n",
    "print(dic1.union(dic2))"
   ]
  },
  {
   "cell_type": "markdown",
   "metadata": {},
   "source": [
    "# B"
   ]
  },
  {
   "cell_type": "markdown",
   "metadata": {},
   "source": [
    "### 01) WAP to convert binary tuple into integer."
   ]
  },
  {
   "cell_type": "code",
   "execution_count": 15,
   "metadata": {},
   "outputs": [
    {
     "name": "stdout",
     "output_type": "stream",
     "text": [
      "5\n"
     ]
    }
   ],
   "source": [
    "tup=(1,0,1)\n",
    "l1=list(map(str,tup))\n",
    "string=''.join(l1)\n",
    "decimal=int(string,2)\n",
    "print(decimal)"
   ]
  },
  {
   "cell_type": "markdown",
   "metadata": {},
   "source": [
    "### 02) WAP to count frequency in list by dictionary."
   ]
  },
  {
   "cell_type": "code",
   "execution_count": 15,
   "metadata": {},
   "outputs": [
    {
     "name": "stdout",
     "output_type": "stream",
     "text": [
      "{'a': 4, 'd': 1, 'c': 2, 'b': 1}\n"
     ]
    }
   ],
   "source": [
    "l1=['a','d','a','a','c','a','b','c']\n",
    "dic={}\n",
    "for i in l1:\n",
    "    if(i in dic):\n",
    "        dic[i]+=1\n",
    "    else:\n",
    "        dic[i]=1\n",
    "print(dic)"
   ]
  },
  {
   "cell_type": "markdown",
   "metadata": {},
   "source": [
    "### 03) WAP to remove all the duplicate words from the list using dictionary."
   ]
  },
  {
   "cell_type": "code",
   "execution_count": 30,
   "metadata": {},
   "outputs": [
    {
     "name": "stdout",
     "output_type": "stream",
     "text": [
      "['abc', 'def', 'cde', 'bcd']\n"
     ]
    }
   ],
   "source": [
    "l1=['abc','def','abc','abc','cde','abc','bcd','cde']\n",
    "dic={}\n",
    "for i in l1:\n",
    "    if(i in dic):\n",
    "        dic[i]+=1\n",
    "    else:\n",
    "        dic[i]=1\n",
    "l2=[]\n",
    "for i in dic.items():\n",
    "    l2.append(i[0])\n",
    "print(l2)\n"
   ]
  }
 ],
 "metadata": {
  "kernelspec": {
   "display_name": "Python 3",
   "language": "python",
   "name": "python3"
  },
  "language_info": {
   "codemirror_mode": {
    "name": "ipython",
    "version": 3
   },
   "file_extension": ".py",
   "mimetype": "text/x-python",
   "name": "python",
   "nbconvert_exporter": "python",
   "pygments_lexer": "ipython3",
   "version": "3.11.0 (main, Oct 24 2022, 18:26:48) [MSC v.1933 64 bit (AMD64)]"
  },
  "vscode": {
   "interpreter": {
    "hash": "5238573367df39f7286bb46f9ff5f08f63a01a80960060ce41e3c79b190280fa"
   }
  }
 },
 "nbformat": 4,
 "nbformat_minor": 4
}
