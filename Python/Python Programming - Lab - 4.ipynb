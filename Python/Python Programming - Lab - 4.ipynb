{
 "cells": [
  {
   "cell_type": "markdown",
   "metadata": {},
   "source": [
    "\n",
    "<a href='https://www.darshan.ac.in/'> <img src='https://www.darshan.ac.in/Content/media/DU_Logo.svg' width=\"250\" height=\"300\"/></a>\n",
    "<pre>\n",
    "<center><b><h1>Python Programming - 2101CS405</b></center>\n",
    "<center><b><h1>Lab - 4</b></center>    \n",
    "<pre>"
   ]
  },
  {
   "cell_type": "markdown",
   "metadata": {},
   "source": [
    "# String"
   ]
  },
  {
   "cell_type": "markdown",
   "metadata": {},
   "source": [
    "### 01) WAP to check given string is palindrome or not."
   ]
  },
  {
   "cell_type": "code",
   "execution_count": null,
   "metadata": {},
   "outputs": [],
   "source": [
    "st=input(\"Enter Number : \")\n",
    "st2=st[::-1]\n",
    "if(st2==st):\n",
    "    print(\"is palindrome\")\n",
    "else:\n",
    "    print(\"not palindrome\")"
   ]
  },
  {
   "cell_type": "markdown",
   "metadata": {},
   "source": [
    "### 02) WAP to reverse the words in given string."
   ]
  },
  {
   "cell_type": "code",
   "execution_count": null,
   "metadata": {},
   "outputs": [],
   "source": [
    "st=input(\"Enter String : \")\n",
    "print(st[::-1])"
   ]
  },
  {
   "cell_type": "markdown",
   "metadata": {},
   "source": [
    "### 03) WAP to remove ith character from given string"
   ]
  },
  {
   "cell_type": "code",
   "execution_count": null,
   "metadata": {},
   "outputs": [],
   "source": [
    "st=input(\"Enter String : \")\n",
    "i=int(input(\"enter ith index : \"))\n",
    "part1=st[:i:]\n",
    "part2=st[i+1::]\n",
    "final=part1+part2\n",
    "print(final)"
   ]
  },
  {
   "cell_type": "markdown",
   "metadata": {},
   "source": [
    "### 04) WAP to find length of String without using len function."
   ]
  },
  {
   "cell_type": "code",
   "execution_count": null,
   "metadata": {},
   "outputs": [],
   "source": [
    "st=input(\"Enter String : \")\n",
    "i=0\n",
    "for j in st:\n",
    "    i+=1\n",
    "print(\"Length = \",i)"
   ]
  },
  {
   "cell_type": "markdown",
   "metadata": {},
   "source": [
    "### 05) WAP to print even length word in string."
   ]
  },
  {
   "cell_type": "code",
   "execution_count": null,
   "metadata": {},
   "outputs": [],
   "source": [
    "st=input(\"Enter String : \")\n",
    "print(st[1::2])"
   ]
  },
  {
   "cell_type": "markdown",
   "metadata": {},
   "source": [
    "### 06) WAP to count numbers of vowels in given string."
   ]
  },
  {
   "cell_type": "code",
   "execution_count": null,
   "metadata": {},
   "outputs": [],
   "source": [
    "st=input(\"Enter String : \")\n",
    "st=st.lower()\n",
    "i=0\n",
    "for j in st:\n",
    "    if(j=='a'or j=='e'or j=='i'or j=='o'or j=='u'):\n",
    "        i+=1\n",
    "print(\"vowels = \",i)"
   ]
  },
  {
   "cell_type": "markdown",
   "metadata": {},
   "source": [
    "### 07) WAP to convert given array to string."
   ]
  },
  {
   "cell_type": "code",
   "execution_count": null,
   "metadata": {},
   "outputs": [],
   "source": [
    "arr=['karan','khunt']\n",
    "st=''\n",
    "for i in arr:\n",
    "    st+=i\n",
    "print(\"String = \",st)"
   ]
  },
  {
   "cell_type": "markdown",
   "metadata": {},
   "source": [
    "### 01) WAP to find out duplicate characters in given string."
   ]
  },
  {
   "cell_type": "code",
   "execution_count": 7,
   "metadata": {},
   "outputs": [
    {
     "name": "stdout",
     "output_type": "stream",
     "text": [
      "Enter String : karan khunt\n",
      "Duplicate :  {'a', 'k', 'n'}\n"
     ]
    }
   ],
   "source": [
    "duplicate =[]\n",
    "a=input(\"Enter String : \")\n",
    "\n",
    "for i in a :\n",
    "    if a.count(i)>1 :\n",
    "        duplicate.append(i)\n",
    "element=set(duplicate)\n",
    "print(\"Duplicate : \",element)"
   ]
  },
  {
   "cell_type": "markdown",
   "metadata": {},
   "source": [
    "### 02) WAP to capitalize the first and last character of each word in a string."
   ]
  },
  {
   "cell_type": "code",
   "execution_count": 11,
   "metadata": {},
   "outputs": [
    {
     "name": "stdout",
     "output_type": "stream",
     "text": [
      "Enter String : Karan\n",
      "Output :  KaraN\n"
     ]
    }
   ],
   "source": [
    "a=input(\"Enter String : \")\n",
    "a=a[0].upper()+a[1:len(a)-1]+a[-1].upper()\n",
    "print(\"Output : \",a)"
   ]
  },
  {
   "cell_type": "markdown",
   "metadata": {},
   "source": [
    "### 03) WAP to find Maximum frequency character in String."
   ]
  },
  {
   "cell_type": "code",
   "execution_count": 2,
   "metadata": {},
   "outputs": [
    {
     "name": "stdout",
     "output_type": "stream",
     "text": [
      "Enter String : karank\n",
      "High Frequency :  k\n"
     ]
    }
   ],
   "source": [
    "a=input(\"Enter String : \")\n",
    "frequency ={}\n",
    "for i in a :\n",
    "    if i in frequency :\n",
    "        frequency[i]=frequency[i]+1\n",
    "    else :\n",
    "        frequency[i]=1\n",
    "high=max(frequency,key=frequency.get)\n",
    "print(\"High Frequency : \",high)"
   ]
  },
  {
   "cell_type": "markdown",
   "metadata": {},
   "source": [
    "### 04) WAP to find Minimum frequency character in String."
   ]
  },
  {
   "cell_type": "code",
   "execution_count": 3,
   "metadata": {},
   "outputs": [
    {
     "name": "stdout",
     "output_type": "stream",
     "text": [
      "Enter String : karank\n",
      "Minimum Frequency :  r\n"
     ]
    }
   ],
   "source": [
    "a=input(\"Enter String : \")\n",
    "frequency ={}\n",
    "for i in a :\n",
    "    if i in frequency :\n",
    "        frequency[i]=frequency[i]+1\n",
    "    else :\n",
    "        frequency[i]=1\n",
    "low=min(frequency,key=frequency.get)\n",
    "print(\"Minimum Frequency : \",low)"
   ]
  },
  {
   "cell_type": "markdown",
   "metadata": {},
   "source": [
    "### 05) WAP to check if a given string is binary string or not"
   ]
  },
  {
   "cell_type": "code",
   "execution_count": 5,
   "metadata": {},
   "outputs": [
    {
     "name": "stdout",
     "output_type": "stream",
     "text": [
      "Enter String : 0011f\n",
      "Not Binary\n"
     ]
    }
   ],
   "source": [
    "a=input(\"Enter String : \")\n",
    "if a.count(\"1\")+a.count(\"0\")==len(a):\n",
    "    print(\"Binary\")\n",
    "else:\n",
    "    print(\"Not Binary\")"
   ]
  },
  {
   "cell_type": "code",
   "execution_count": null,
   "metadata": {},
   "outputs": [],
   "source": []
  }
 ],
 "metadata": {
  "kernelspec": {
   "display_name": "Python 3 (ipykernel)",
   "language": "python",
   "name": "python3"
  },
  "language_info": {
   "codemirror_mode": {
    "name": "ipython",
    "version": 3
   },
   "file_extension": ".py",
   "mimetype": "text/x-python",
   "name": "python",
   "nbconvert_exporter": "python",
   "pygments_lexer": "ipython3",
   "version": "3.9.13"
  }
 },
 "nbformat": 4,
 "nbformat_minor": 4
}
