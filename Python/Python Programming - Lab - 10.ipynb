{
 "cells": [
  {
   "cell_type": "markdown",
   "metadata": {},
   "source": [
    "<a href='https://www.darshan.ac.in/'> <img src='https://www.darshan.ac.in/Content/media/DU_Logo.svg' width=\"250\" height=\"300\"/></a>\n",
    "<pre>\n",
    "<center><b><h1>Python Programming - 2101CS405</b></center>\n",
    "<center><b><h1>Lab - 10</b></center>    \n",
    "<pre>"
   ]
  },
  {
   "cell_type": "markdown",
   "metadata": {},
   "source": [
    "# Modules"
   ]
  },
  {
   "cell_type": "markdown",
   "metadata": {},
   "source": [
    "# A"
   ]
  },
  {
   "cell_type": "markdown",
   "metadata": {},
   "source": [
    "### 01) WAP to create Calculator module which defines functions like add, sub,mul and div. create another file that uses the Calculator module."
   ]
  },
  {
   "cell_type": "code",
   "execution_count": 2,
   "metadata": {},
   "outputs": [
    {
     "name": "stdout",
     "output_type": "stream",
     "text": [
      "30\n",
      "1\n",
      "150\n",
      "1.1\n"
     ]
    }
   ],
   "source": [
    "import Calculator as c\n",
    "c.Add(10,20)\n",
    "c.Sub(29,28)\n",
    "c.Mul(15,10)\n",
    "c.Div(22,20)"
   ]
  },
  {
   "cell_type": "markdown",
   "metadata": {},
   "source": [
    "### 02) WAP to Pick a random character from a given String."
   ]
  },
  {
   "cell_type": "code",
   "execution_count": 8,
   "metadata": {},
   "outputs": [
    {
     "name": "stdout",
     "output_type": "stream",
     "text": [
      "r\n"
     ]
    }
   ],
   "source": [
    "import random\n",
    "a=\"Darshan\"\n",
    "\n",
    "print(random.choice(a))"
   ]
  },
  {
   "cell_type": "markdown",
   "metadata": {},
   "source": [
    "### 03) WAP to Pick a random element from a given list."
   ]
  },
  {
   "cell_type": "code",
   "execution_count": 21,
   "metadata": {},
   "outputs": [
    {
     "name": "stdout",
     "output_type": "stream",
     "text": [
      "pink\n"
     ]
    }
   ],
   "source": [
    "list1 = [\"red\",\"pink\",\"yellow\",\"black\",\"white\"]\n",
    "print(random.choice(list1))"
   ]
  },
  {
   "cell_type": "markdown",
   "metadata": {},
   "source": [
    "### 04) WAP to demonstrate the use of the math module."
   ]
  },
  {
   "cell_type": "code",
   "execution_count": 22,
   "metadata": {},
   "outputs": [
    {
     "name": "stdout",
     "output_type": "stream",
     "text": [
      "e =  2.718281828459045\n",
      "PI =  3.141592653589793\n",
      "Tau =  6.283185307179586\n",
      "Ceil =  6\n",
      "Floor =  5\n",
      "Factorial =  120\n",
      "GCD =  3\n",
      "LCM =  15\n",
      "Fabs =  15.0\n",
      "Exponential =  7.38905609893065\n",
      "Power =  8.0\n",
      "Log With Base 2=  5.0\n",
      "Log With Base 10=  1.0\n",
      "Degree To Radian =  1.5707963267948966\n",
      "Radian To Degree =  90.0\n",
      "Gamma =  1.0\n"
     ]
    }
   ],
   "source": [
    "import math\n",
    "print(\"e = \",math.e)\n",
    "print(\"PI = \",math.pi)\n",
    "print(\"Tau = \",math.tau)\n",
    "print(\"Ceil = \",math.ceil(5.6))\n",
    "print(\"Floor = \",math.floor(5.6))\n",
    "print(\"Factorial = \",math.factorial(5))\n",
    "print(\"GCD = \",math.gcd(15,3))\n",
    "print(\"LCM = \",math.lcm(15,3))\n",
    "print(\"Fabs = \",math.fabs(-15))\n",
    "print(\"Exponential = \",math.exp(2))\n",
    "print(\"Power = \",math.pow(2,3))\n",
    "print(\"Log With Base 2= \",math.log2(32))\n",
    "print(\"Log With Base 10= \",math.log10(10))\n",
    "print(\"Degree To Radian = \",math.radians(90))\n",
    "print(\"Radian To Degree = \",math.degrees(1.5707963267948966))\n",
    "print(\"Gamma = \",math.gamma(2))"
   ]
  },
  {
   "cell_type": "markdown",
   "metadata": {},
   "source": [
    "### 05) WAP to demonstrate the use of date time module."
   ]
  },
  {
   "cell_type": "code",
   "execution_count": 23,
   "metadata": {},
   "outputs": [
    {
     "name": "stdout",
     "output_type": "stream",
     "text": [
      "2023-02-08\n",
      "-----------------------------\n",
      "2023-02-15\n",
      "2023\n",
      "2\n",
      "15\n",
      "-----------------------------\n",
      "10:13:05.000005\n",
      "10\n",
      "13\n",
      "5\n",
      "5\n",
      "-----------------------------\n",
      "2023-02-08 10:42:03.000005\n",
      "2023\n",
      "2\n",
      "8\n",
      "10\n",
      "42\n",
      "3\n",
      "5\n",
      "-----------------------------\n",
      "2023-02-15 10:09:08.904340\n",
      "-----------------------------\n",
      "2023-02-17 10:09:08.905337\n",
      "-----------------------------\n",
      "2023-02-08 10:09:08.905337\n",
      "-----------------------------\n",
      "Wed\n",
      "Wednesday\n",
      "02\n",
      "09\n",
      "23\n",
      "2023\n"
     ]
    }
   ],
   "source": [
    "import datetime\n",
    "\n",
    "d = datetime.date(2023,2,8)\n",
    "print(d)\n",
    "print(\"-----------------------------\")\n",
    "\n",
    "today = datetime.date.today()\n",
    "print(today)\n",
    "print(today.year)\n",
    "print(today.month)\n",
    "print(today.day)\n",
    "print(\"-----------------------------\")\n",
    "\n",
    "t = datetime.time(10,13,5,5)\n",
    "print(t)\n",
    "print(t.hour)\n",
    "print(t.minute)\n",
    "print(t.second)\n",
    "print(t.microsecond)\n",
    "print(\"-----------------------------\")\n",
    "\n",
    "dt = datetime.datetime(2023,2,8,10,42,3,5)\n",
    "print(dt)\n",
    "print(dt.year)\n",
    "print(dt.month)\n",
    "print(dt.day)\n",
    "print(dt.hour)\n",
    "print(dt.minute)\n",
    "print(dt.second)\n",
    "print(dt.microsecond)\n",
    "print(\"-----------------------------\")\n",
    "\n",
    "\n",
    "print(datetime.datetime.now())\n",
    "print(\"-----------------------------\")\n",
    "\n",
    "delta = datetime.datetime.now()\n",
    "td = delta + datetime.timedelta(days=2)\n",
    "print(td)\n",
    "print(\"-----------------------------\")\n",
    "\n",
    "delta = datetime.datetime.now()\n",
    "td = delta - datetime.timedelta(weeks=1)\n",
    "print(td)\n",
    "print(\"-----------------------------\")\n",
    "\n",
    "print(delta.strftime(\"%a\"))\n",
    "print(delta.strftime(\"%A\"))\n",
    "print(delta.strftime(\"%m\"))\n",
    "print(delta.strftime(\"%M\"))\n",
    "print(delta.strftime(\"%y\"))\n",
    "print(delta.strftime(\"%Y\"))\n"
   ]
  },
  {
   "cell_type": "markdown",
   "metadata": {},
   "source": [
    "# B"
   ]
  },
  {
   "cell_type": "markdown",
   "metadata": {},
   "source": [
    "### 01) WAP to Roll dice in such a way that every time you get the same number."
   ]
  },
  {
   "cell_type": "code",
   "execution_count": 37,
   "metadata": {},
   "outputs": [
    {
     "name": "stdout",
     "output_type": "stream",
     "text": [
      "2\n"
     ]
    }
   ],
   "source": [
    "list1=[1,2,3,4,5,6]\n",
    "random.seed(4)\n",
    "print(random.choice(list1))"
   ]
  },
  {
   "cell_type": "markdown",
   "metadata": {},
   "source": [
    "### 02) WAP to generate 3 random integers between 100 and 999 which is divisible by 5."
   ]
  },
  {
   "cell_type": "code",
   "execution_count": 58,
   "metadata": {},
   "outputs": [
    {
     "name": "stdout",
     "output_type": "stream",
     "text": [
      "465\n",
      "650\n",
      "675\n"
     ]
    }
   ],
   "source": [
    "for i in range(3):\n",
    "    print(random.randrange(100,999,5))"
   ]
  },
  {
   "cell_type": "markdown",
   "metadata": {},
   "source": [
    "### 03) WAP to generate 100 random lottery tickets and pick two lucky tickets from it as a winner."
   ]
  },
  {
   "cell_type": "code",
   "execution_count": 73,
   "metadata": {},
   "outputs": [
    {
     "name": "stdout",
     "output_type": "stream",
     "text": [
      "23\n",
      "45\n"
     ]
    }
   ],
   "source": [
    "list1=[]\n",
    "for i in range (100):\n",
    "    list1.append(i)\n",
    "print(random.choice(list1))\n",
    "print(random.choice(list1))"
   ]
  },
  {
   "cell_type": "markdown",
   "metadata": {},
   "source": [
    "### 04) WAP to print current date and time in Python."
   ]
  },
  {
   "cell_type": "code",
   "execution_count": 74,
   "metadata": {},
   "outputs": [
    {
     "name": "stdout",
     "output_type": "stream",
     "text": [
      "2023-02-15 10:17:59.324623\n"
     ]
    }
   ],
   "source": [
    "print(datetime.datetime.now())"
   ]
  },
  {
   "cell_type": "markdown",
   "metadata": {},
   "source": [
    "### 05) Subtract a week (7 days) from a given date in Python."
   ]
  },
  {
   "cell_type": "code",
   "execution_count": 77,
   "metadata": {},
   "outputs": [
    {
     "name": "stdout",
     "output_type": "stream",
     "text": [
      "2023-02-08 10:20:18.387123\n"
     ]
    }
   ],
   "source": [
    "print(datetime.datetime.now() - datetime.timedelta(weeks=1))"
   ]
  },
  {
   "cell_type": "markdown",
   "metadata": {},
   "source": [
    "### 06) WAP to Calculate number of days between two given dates."
   ]
  },
  {
   "cell_type": "code",
   "execution_count": 81,
   "metadata": {},
   "outputs": [
    {
     "name": "stdout",
     "output_type": "stream",
     "text": [
      "-6 days, 0:19:14.067193\n"
     ]
    }
   ],
   "source": [
    "d1=datetime.datetime(2023,2,9,10,42,3,5)\n",
    "d2=datetime.datetime.now()\n",
    "print(d1-d2)"
   ]
  },
  {
   "cell_type": "markdown",
   "metadata": {},
   "source": [
    "### 07) WAP to Find the day of the week of a given date."
   ]
  },
  {
   "cell_type": "code",
   "execution_count": 82,
   "metadata": {},
   "outputs": [
    {
     "name": "stdout",
     "output_type": "stream",
     "text": [
      "Wed\n",
      "Wednesday\n"
     ]
    }
   ],
   "source": [
    "delta = datetime.datetime.now()\n",
    "print(delta.strftime(\"%a\"))\n",
    "print(delta.strftime(\"%A\"))"
   ]
  }
 ],
 "metadata": {
  "kernelspec": {
   "display_name": "Python 3 (ipykernel)",
   "language": "python",
   "name": "python3"
  },
  "language_info": {
   "codemirror_mode": {
    "name": "ipython",
    "version": 3
   },
   "file_extension": ".py",
   "mimetype": "text/x-python",
   "name": "python",
   "nbconvert_exporter": "python",
   "pygments_lexer": "ipython3",
   "version": "3.9.12"
  }
 },
 "nbformat": 4,
 "nbformat_minor": 4
}
