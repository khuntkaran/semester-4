{
 "cells": [
  {
   "cell_type": "markdown",
   "metadata": {},
   "source": [
    "\n",
    "<a href='https://www.darshan.ac.in/'> <img src='https://www.darshan.ac.in/Content/media/DU_Logo.svg' width=\"250\" height=\"300\"/></a>\n",
    "<pre>\n",
    "<center><b><h1>Python Programming - 2101CS405</b></center>\n",
    "<center><b><h1>Lab - 3</b></center>    \n",
    "<pre>"
   ]
  },
  {
   "cell_type": "markdown",
   "metadata": {},
   "source": [
    "# for and while loop"
   ]
  },
  {
   "cell_type": "markdown",
   "metadata": {},
   "source": [
    "### 01) WAP to print 1 to 10"
   ]
  },
  {
   "cell_type": "code",
   "execution_count": 3,
   "metadata": {},
   "outputs": [
    {
     "name": "stdout",
     "output_type": "stream",
     "text": [
      "1\n",
      "2\n",
      "3\n",
      "4\n",
      "5\n",
      "6\n",
      "7\n",
      "8\n",
      "9\n",
      "10\n"
     ]
    }
   ],
   "source": [
    "for i in range(1,11):\n",
    "    print(i);"
   ]
  },
  {
   "cell_type": "markdown",
   "metadata": {},
   "source": [
    "### 02) WAP to print 1 to n"
   ]
  },
  {
   "cell_type": "code",
   "execution_count": 5,
   "metadata": {},
   "outputs": [
    {
     "name": "stdout",
     "output_type": "stream",
     "text": [
      "Enter no : 12\n",
      "1\n",
      "2\n",
      "3\n",
      "4\n",
      "5\n",
      "6\n",
      "7\n",
      "8\n",
      "9\n",
      "10\n",
      "11\n",
      "12\n"
     ]
    }
   ],
   "source": [
    "n=int(input(\"Enter no : \"))\n",
    "for i in range(1,n+1):\n",
    "    print(i)"
   ]
  },
  {
   "cell_type": "markdown",
   "metadata": {},
   "source": [
    "### 03) WAP to print odd numbers between 1 to n"
   ]
  },
  {
   "cell_type": "code",
   "execution_count": 6,
   "metadata": {},
   "outputs": [
    {
     "name": "stdout",
     "output_type": "stream",
     "text": [
      "Enter no : 12\n",
      "1\n",
      "3\n",
      "5\n",
      "7\n",
      "9\n",
      "11\n"
     ]
    }
   ],
   "source": [
    "n=int(input(\"Enter no : \"))\n",
    "for i in range(1,n+1):\n",
    "    if(i%2!=0):\n",
    "        print(i)"
   ]
  },
  {
   "cell_type": "markdown",
   "metadata": {},
   "source": [
    "### 04) WAP to print numbers between two given numbers which is divisible by 2 but not divisible by 3"
   ]
  },
  {
   "cell_type": "code",
   "execution_count": 20,
   "metadata": {},
   "outputs": [
    {
     "name": "stdout",
     "output_type": "stream",
     "text": [
      "Enter no1 : 20\n",
      "Enter no2 : 1\n",
      "2\n",
      "4\n",
      "8\n",
      "10\n",
      "14\n",
      "16\n"
     ]
    }
   ],
   "source": [
    "no1=int(input(\"Enter no1 : \"))\n",
    "no2=int(input(\"Enter no2 : \"))\n",
    "if(no1>no2):\n",
    "    x=no1\n",
    "    no1=no2\n",
    "    no2=x\n",
    "for i in range(no1  ,no2):\n",
    "    if(i%2==0 and i%3!=0):\n",
    "        print(i)"
   ]
  },
  {
   "cell_type": "markdown",
   "metadata": {},
   "source": [
    "### 05) WAP to print sum of 1 to n numbers"
   ]
  },
  {
   "cell_type": "code",
   "execution_count": 1,
   "metadata": {},
   "outputs": [
    {
     "name": "stdout",
     "output_type": "stream",
     "text": [
      "sum =  6\n"
     ]
    }
   ],
   "source": [
    "n=int(input(\"Enter no : \"))\n",
    "sum=0\n",
    "for i in range(1,n+1):\n",
    "    sum+=i\n",
    "print(\"sum = \",sum)"
   ]
  },
  {
   "cell_type": "markdown",
   "metadata": {},
   "source": [
    "### 06) WAP to print sum of series 1 + 4 + 9 + 16 + 25 + 36 + ...n"
   ]
  },
  {
   "cell_type": "code",
   "execution_count": 23,
   "metadata": {},
   "outputs": [
    {
     "name": "stdout",
     "output_type": "stream",
     "text": [
      "Enter no : 3\n",
      "sum =  14\n"
     ]
    }
   ],
   "source": [
    "n=int(input(\"Enter no : \"))\n",
    "sum=0\n",
    "for i in range(1,n+1):\n",
    "    sum+=(i*i)\n",
    "print(\"sum = \",sum)"
   ]
  },
  {
   "cell_type": "markdown",
   "metadata": {},
   "source": [
    "### 07) WAP to print sum of series 1 – 2 + 3 – 4 + 5 – 6 + 7 ... n"
   ]
  },
  {
   "cell_type": "code",
   "execution_count": 24,
   "metadata": {},
   "outputs": [
    {
     "name": "stdout",
     "output_type": "stream",
     "text": [
      "Enter no : 5\n",
      "sum =  3\n"
     ]
    }
   ],
   "source": [
    "n=int(input(\"Enter no : \"))\n",
    "sum=0\n",
    "for i in range(1,n+1):\n",
    "    if(i%2!=0):\n",
    "        sum+=i\n",
    "    else:\n",
    "        sum-=i\n",
    "print(\"sum = \",sum)"
   ]
  },
  {
   "cell_type": "markdown",
   "metadata": {},
   "source": [
    "### 08) WAP to print multiplication table of given number."
   ]
  },
  {
   "cell_type": "code",
   "execution_count": 25,
   "metadata": {},
   "outputs": [
    {
     "name": "stdout",
     "output_type": "stream",
     "text": [
      "Enter no : 5\n",
      "5  x  1  =  5\n",
      "5  x  2  =  10\n",
      "5  x  3  =  15\n",
      "5  x  4  =  20\n",
      "5  x  5  =  25\n",
      "5  x  6  =  30\n",
      "5  x  7  =  35\n",
      "5  x  8  =  40\n",
      "5  x  9  =  45\n",
      "5  x  10  =  50\n"
     ]
    }
   ],
   "source": [
    "n=int(input(\"Enter no : \"))\n",
    "for i in range(1,11):\n",
    "    print(n,\" x \",i,\" = \",n*i)"
   ]
  },
  {
   "cell_type": "markdown",
   "metadata": {},
   "source": [
    "### 09) WAP to find factorial of the given number"
   ]
  },
  {
   "cell_type": "code",
   "execution_count": 29,
   "metadata": {},
   "outputs": [
    {
     "name": "stdout",
     "output_type": "stream",
     "text": [
      "Enter n : 5\n",
      "factorial =  120\n"
     ]
    }
   ],
   "source": [
    "n=int(input(\"Enter n : \"))\n",
    "fac=1\n",
    "while(n>0):\n",
    "    fac*=n\n",
    "    n-=1\n",
    "print(\"factorial = \",fac)\n",
    "    "
   ]
  },
  {
   "cell_type": "markdown",
   "metadata": {},
   "source": [
    "### 10) WAP to find factors of the given number"
   ]
  },
  {
   "cell_type": "code",
   "execution_count": 1,
   "metadata": {
    "scrolled": false
   },
   "outputs": [
    {
     "name": "stdout",
     "output_type": "stream",
     "text": [
      "Enter n : 26\n",
      "1\n",
      "2\n",
      "13\n",
      "26\n"
     ]
    }
   ],
   "source": [
    "n=int(input(\"Enter n : \"))\n",
    "i=1\n",
    "while(i<=n):\n",
    "    if(n%i==0):\n",
    "        print(i)\n",
    "    i+=1"
   ]
  },
  {
   "cell_type": "markdown",
   "metadata": {},
   "source": [
    "### 11) WAP to find whether the given number is prime or not."
   ]
  },
  {
   "cell_type": "code",
   "execution_count": 8,
   "metadata": {},
   "outputs": [
    {
     "name": "stdout",
     "output_type": "stream",
     "text": [
      "Enter n : 6\n",
      "number is not prime\n"
     ]
    }
   ],
   "source": [
    "n=int(input(\"Enter n : \"))\n",
    "i=2\n",
    "flag=0\n",
    "while(i<=n/2):\n",
    "    if(n%i==0):\n",
    "        flag=1\n",
    "        break\n",
    "    i+=1\n",
    "if(flag==0):\n",
    "    print(\"number is prime\")\n",
    "else:\n",
    "    print(\"number is not prime\")"
   ]
  },
  {
   "cell_type": "markdown",
   "metadata": {},
   "source": [
    "### 12) WAP to print sum of digits of given number"
   ]
  },
  {
   "cell_type": "code",
   "execution_count": 12,
   "metadata": {},
   "outputs": [
    {
     "name": "stdout",
     "output_type": "stream",
     "text": [
      "Enter no : 5489\n",
      "sum =  26\n"
     ]
    }
   ],
   "source": [
    "n=int(input(\"Enter no : \"))\n",
    "sum=0\n",
    "while(n>0):\n",
    "    x=n%10\n",
    "    sum=sum+x\n",
    "    n=int(n/10)\n",
    "print(\"sum = \",sum)"
   ]
  },
  {
   "cell_type": "markdown",
   "metadata": {},
   "source": [
    "### 13) WAP to check whether the given number is palindrome or not"
   ]
  },
  {
   "cell_type": "code",
   "execution_count": 18,
   "metadata": {},
   "outputs": [
    {
     "name": "stdout",
     "output_type": "stream",
     "text": [
      "Enter no : 121\n",
      "number is palindrome\n"
     ]
    }
   ],
   "source": [
    "n=int(input(\"Enter no : \"))\n",
    "z=n\n",
    "n2=0\n",
    "while(n>0):\n",
    "    x=n%10\n",
    "    n2=n2*10+x\n",
    "    n=int(n/10)\n",
    "if(z==n2):\n",
    "    print(\"number is palindrome\")\n",
    "else:\n",
    "    print(\"number is not palindrome\")"
   ]
  },
  {
   "cell_type": "markdown",
   "metadata": {},
   "source": [
    "### 01) WAP to check whether the given number is Armstrong or not."
   ]
  },
  {
   "cell_type": "code",
   "execution_count": 36,
   "metadata": {},
   "outputs": [
    {
     "name": "stdout",
     "output_type": "stream",
     "text": [
      "Enter no : 9474\n",
      "9474 number is Armstrong\n"
     ]
    }
   ],
   "source": [
    "n=input(\"Enter no : \")\n",
    "z=len(n)\n",
    "n=int(n)\n",
    "y=n\n",
    "n2=0\n",
    "while(n>0):\n",
    "    x=n%10\n",
    "    n2=n2+x**z\n",
    "    n=int(n/10)\n",
    "if(y==n2):\n",
    "    print(n2,\"number is Armstrong\")\n",
    "else:\n",
    "    print(n2,\"number is not Armstrong\")"
   ]
  },
  {
   "cell_type": "markdown",
   "metadata": {},
   "source": [
    "### 02) WAP to find out prime numbers between given two numbers."
   ]
  },
  {
   "cell_type": "code",
   "execution_count": 39,
   "metadata": {},
   "outputs": [
    {
     "name": "stdout",
     "output_type": "stream",
     "text": [
      "Enter no1 : 3\n",
      "Enter no2 : 20\n",
      "3\n",
      "5\n",
      "7\n",
      "11\n",
      "13\n",
      "17\n",
      "19\n"
     ]
    }
   ],
   "source": [
    "no1=int(input(\"Enter no1 : \"))\n",
    "no2=int(input(\"Enter no2 : \"))\n",
    "if(no1>no2):\n",
    "    x=no1\n",
    "    no1=no2\n",
    "    no2=x\n",
    "for i in range(no1  ,no2):\n",
    "    n=i\n",
    "    j=2\n",
    "    flag=0\n",
    "    while(j<n):\n",
    "        if(n%j==0):\n",
    "            flag=1\n",
    "            break\n",
    "        j+=1\n",
    "    if(flag==0):\n",
    "        print(i)"
   ]
  },
  {
   "cell_type": "markdown",
   "metadata": {},
   "source": [
    "### 03) WAP to calculate x^y without using any function."
   ]
  },
  {
   "cell_type": "code",
   "execution_count": 1,
   "metadata": {},
   "outputs": [
    {
     "name": "stdout",
     "output_type": "stream",
     "text": [
      "Enter x : 2\n",
      "Enter y : 3\n",
      "x^y =  8\n"
     ]
    }
   ],
   "source": [
    "x=int(input(\"Enter x : \"))\n",
    "y=int(input(\"Enter y : \"))\n",
    "i=1\n",
    "sum=1\n",
    "while(i<=y):\n",
    "    sum*=x\n",
    "    i+=1\n",
    "print(\"x^y = \",sum)"
   ]
  },
  {
   "cell_type": "markdown",
   "metadata": {},
   "source": [
    "### 04) WAP to check whether the given number is perfect or not.\n",
    "[Sum of factors including 1 excluding number itself]"
   ]
  },
  {
   "cell_type": "code",
   "execution_count": 4,
   "metadata": {},
   "outputs": [
    {
     "name": "stdout",
     "output_type": "stream",
     "text": [
      "Enter n : 28\n",
      "number is perfect\n"
     ]
    }
   ],
   "source": [
    "n=int(input(\"Enter n : \"))\n",
    "i=1\n",
    "sum=0\n",
    "while(i<n):\n",
    "    if(n%i==0):\n",
    "        sum+=i\n",
    "    i+=1\n",
    "if(sum==i):\n",
    "    print(\"number is perfect\")\n",
    "else:\n",
    "    print(\"number is not perfect\")"
   ]
  },
  {
   "cell_type": "markdown",
   "metadata": {},
   "source": [
    "### 05) WAP to find the sum of 1 + (1+2) + (1+2+3) + (1+2+3+4)+...+(1+2+3+4+....+n)"
   ]
  },
  {
   "cell_type": "code",
   "execution_count": 8,
   "metadata": {},
   "outputs": [
    {
     "name": "stdout",
     "output_type": "stream",
     "text": [
      "Enter n : 4\n",
      "sum :  20\n"
     ]
    }
   ],
   "source": [
    "n=int(input(\"Enter n : \"))\n",
    "sum=0\n",
    "i=1\n",
    "while(i<=n):\n",
    "    j=1\n",
    "    while(j<=i):\n",
    "        sum+=j\n",
    "        j+=1\n",
    "    i+=1\n",
    "print(\"sum : \",sum)"
   ]
  },
  {
   "cell_type": "markdown",
   "metadata": {},
   "source": [
    "### 06) WAP to print Multiplication Table up to n"
   ]
  },
  {
   "cell_type": "code",
   "execution_count": 9,
   "metadata": {},
   "outputs": [
    {
     "name": "stdout",
     "output_type": "stream",
     "text": [
      "Enter no : 5\n",
      "Enter up to n : 15\n",
      "5  x  1  =  5\n",
      "5  x  2  =  10\n",
      "5  x  3  =  15\n",
      "5  x  4  =  20\n",
      "5  x  5  =  25\n",
      "5  x  6  =  30\n",
      "5  x  7  =  35\n",
      "5  x  8  =  40\n",
      "5  x  9  =  45\n",
      "5  x  10  =  50\n",
      "5  x  11  =  55\n",
      "5  x  12  =  60\n",
      "5  x  13  =  65\n",
      "5  x  14  =  70\n",
      "5  x  15  =  75\n"
     ]
    }
   ],
   "source": [
    "n=int(input(\"Enter no : \"))\n",
    "x=int(input(\"Enter up to n : \"))\n",
    "for i in range(1,x+1):\n",
    "    print(n,\" x \",i,\" = \",n*i)"
   ]
  },
  {
   "cell_type": "code",
   "execution_count": null,
   "metadata": {},
   "outputs": [],
   "source": []
  }
 ],
 "metadata": {
  "kernelspec": {
   "display_name": "Python 3",
   "language": "python",
   "name": "python3"
  },
  "language_info": {
   "codemirror_mode": {
    "name": "ipython",
    "version": 3
   },
   "file_extension": ".py",
   "mimetype": "text/x-python",
   "name": "python",
   "nbconvert_exporter": "python",
   "pygments_lexer": "ipython3",
   "version": "3.11.0 (main, Oct 24 2022, 18:26:48) [MSC v.1933 64 bit (AMD64)]"
  },
  "vscode": {
   "interpreter": {
    "hash": "5238573367df39f7286bb46f9ff5f08f63a01a80960060ce41e3c79b190280fa"
   }
  }
 },
 "nbformat": 4,
 "nbformat_minor": 4
}
