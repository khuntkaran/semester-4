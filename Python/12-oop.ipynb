{
 "cells": [
  {
   "cell_type": "markdown",
   "metadata": {},
   "source": [
    "<a href='https://www.darshan.ac.in/'> <img src='https://www.darshan.ac.in/Content/media/DU_Logo.svg' width=\"250\" height=\"300\"/></a>\n",
    "<pre>\n",
    "<center><b><h1>Python Programming - 2101CS405</b></center>\n",
    "<center><b><h1>Lab - 12</b></center>    \n",
    "<pre>"
   ]
  },
  {
   "cell_type": "markdown",
   "metadata": {},
   "source": [
    "# OOP"
   ]
  },
  {
   "cell_type": "markdown",
   "metadata": {},
   "source": [
    "### 01) Write a Program to create a class by name Students, and initialize attributes like name, age, and grade while creating an object."
   ]
  },
  {
   "cell_type": "code",
   "execution_count": 7,
   "metadata": {},
   "outputs": [
    {
     "name": "stdout",
     "output_type": "stream",
     "text": [
      "Name :  karan\n",
      "Age :  19\n",
      "Grade :  A+\n"
     ]
    }
   ],
   "source": [
    "class Student:\n",
    "    name=\"\"\n",
    "    age=0\n",
    "    grade=\"\"\n",
    "    \n",
    "    def __init__(self,name,age,grade):\n",
    "        self.name=name\n",
    "        self.age=age\n",
    "        self.grade=grade\n",
    "        print(\"Name : \",self.name)\n",
    "        print(\"Age : \",self.age)\n",
    "        print(\"Grade : \",self.grade)\n",
    "\n",
    "obj=Student(\"karan\",19,\"A+\")"
   ]
  },
  {
   "cell_type": "markdown",
   "metadata": {},
   "source": [
    "### 02) Create a class named Bank_Account with Account_No, User_Name, Email,Account_Type and Account_Balance data members. Also create a method GetAccountDetails() and DisplayAccountDetails(). Create main method to demonstrate the Bank_Account class."
   ]
  },
  {
   "cell_type": "code",
   "execution_count": 10,
   "metadata": {},
   "outputs": [
    {
     "name": "stdout",
     "output_type": "stream",
     "text": [
      "Enter Account No : 123\n",
      "Enter Name : karan\n",
      "Enter Email : kkfa\n",
      "Enter Account Type : saving\n",
      "Enter Balance : 5000\n",
      "Account No :  123\n",
      "User Name :  karan\n",
      "Email :  kkfa\n",
      "Account Type :  saving\n",
      "Account Balance :  5000.0\n"
     ]
    }
   ],
   "source": [
    "class Bank_Account:\n",
    "    Account_No=0\n",
    "    User_Name=\"\"\n",
    "    Email=\"\"\n",
    "    Account_Type=\"\"\n",
    "    Account_Balance=0.0\n",
    "    def GetAccountDetails(self):\n",
    "        self.Account_No=int(input(\"Enter Account No : \"))\n",
    "        self.User_Name=input(\"Enter Name : \")\n",
    "        self.Email=input(\"Enter Email : \")\n",
    "        self.Account_Type=input(\"Enter Account Type : \")\n",
    "        self.Account_Balance=float(input(\"Enter Balance : \"))\n",
    "    def DisplayAccountDetails(self):\n",
    "        print(\"Account No : \",self.Account_No)\n",
    "        print(\"User Name : \",self.User_Name)\n",
    "        print(\"Email : \",self.Email)\n",
    "        print(\"Account Type : \",self.Account_Type)\n",
    "        print(\"Account Balance : \",self.Account_Balance)\n",
    "    def main(self):\n",
    "        self.GetAccountDetails()\n",
    "        self.DisplayAccountDetails()\n",
    "        \n",
    "        \n",
    "obj = Bank_Account()\n",
    "obj.main()"
   ]
  },
  {
   "cell_type": "markdown",
   "metadata": {},
   "source": [
    "### 03) WAP to create Circle class with area and perimeter function to find area and perimeter of circle."
   ]
  },
  {
   "cell_type": "code",
   "execution_count": 12,
   "metadata": {},
   "outputs": [
    {
     "name": "stdout",
     "output_type": "stream",
     "text": [
      "Enter Radius : 5\n",
      "Area :  78.5\n",
      "Perimeter :  31.400000000000002\n"
     ]
    }
   ],
   "source": [
    "class Circle:\n",
    "    r=0\n",
    "    def __init__(self):\n",
    "        self.r=int(input(\"Enter Radius : \"))\n",
    "    def area(self):\n",
    "        print(\"Area : \",3.14*self.r*self.r)\n",
    "    def perimeter(self):\n",
    "        print(\"Perimeter : \",2*3.14*self.r)\n",
    "\n",
    "obj = Circle()\n",
    "obj.area()\n",
    "obj.perimeter()"
   ]
  },
  {
   "cell_type": "markdown",
   "metadata": {},
   "source": [
    "### 04) Create a class for employees that includes attributes such as name, age, salary, and methods to update and display employee information."
   ]
  },
  {
   "cell_type": "code",
   "execution_count": 14,
   "metadata": {},
   "outputs": [
    {
     "name": "stdout",
     "output_type": "stream",
     "text": [
      "Name :  karan\n",
      "Age :  19\n",
      "Salary :  5000\n",
      "Enter New Name : kkk\n",
      "Enter New Age : 20\n",
      "Enter New Salary : 50000\n",
      "Name :  kkk\n",
      "Age :  20\n",
      "Salary :  50000\n"
     ]
    }
   ],
   "source": [
    "class employees:\n",
    "    name=\"karan\"\n",
    "    age=19\n",
    "    salary=5000\n",
    "    def update(self):\n",
    "        self.name=input(\"Enter New Name : \")\n",
    "        self.age=int(input(\"Enter New Age : \"))\n",
    "        self.salary=int(input(\"Enter New Salary : \"))\n",
    "    def display(self):\n",
    "        print(\"Name : \",self.name)\n",
    "        print(\"Age : \",self.age)\n",
    "        print(\"Salary : \",self.salary)\n",
    "obj=employees()\n",
    "obj.display()\n",
    "obj.update()\n",
    "obj.display()"
   ]
  },
  {
   "cell_type": "markdown",
   "metadata": {},
   "source": [
    "### 05) Create a bank account class with methods to deposit, withdraw, and check balance."
   ]
  },
  {
   "cell_type": "code",
   "execution_count": 20,
   "metadata": {},
   "outputs": [
    {
     "name": "stdout",
     "output_type": "stream",
     "text": [
      "Enter Deposit Amount : 500\n",
      "Your Balance :  5500\n",
      "Enter withdraw Amount : 6000\n",
      "\u001b[31mPaisa Nathi Tara Khata Ma\u001b[30m\n",
      "Your Balance :  5500\n"
     ]
    }
   ],
   "source": [
    "import colorama\n",
    "from colorama import Fore\n",
    "\n",
    "class Bank_Account:\n",
    "    Balance=5000\n",
    "    def Deposit(self):\n",
    "        amount=int(input(\"Enter Deposit Amount : \"))\n",
    "        self.Balance=self.Balance+amount\n",
    "        self.Check()\n",
    "    def Withdraw(self):\n",
    "        amount=int(input(\"Enter withdraw Amount : \"))\n",
    "        if(self.Balance>=amount):\n",
    "            self.Balance=self.Balance-amount\n",
    "        else:\n",
    "            print(Fore.RED +\"Paisa Nathi Tara Khata Ma\"+Fore.BLACK)\n",
    "        self.Check()\n",
    "    def Check(self):\n",
    "        print(\"Your Balance : \",self.Balance)\n",
    "\n",
    "obj=Bank_Account()\n",
    "obj.Deposit()\n",
    "obj.Withdraw()"
   ]
  },
  {
   "cell_type": "markdown",
   "metadata": {},
   "source": [
    "### 06) Create a class for managing inventory that includes attributes such as item name, price, quantity, and methods to add, remove, and update items."
   ]
  },
  {
   "cell_type": "code",
   "execution_count": null,
   "metadata": {},
   "outputs": [],
   "source": []
  },
  {
   "cell_type": "markdown",
   "metadata": {},
   "source": [
    "### 09) Create a Class with instance attributes"
   ]
  },
  {
   "cell_type": "code",
   "execution_count": null,
   "metadata": {},
   "outputs": [],
   "source": []
  },
  {
   "cell_type": "markdown",
   "metadata": {},
   "source": [
    "### 07)\n",
    "Create one class student_kit <br>\n",
    "Within the student_kit class create one class attribute principal name ( Mr ABC ) <br>\n",
    "Create one attendance method and take input as number of days. <br>\n",
    "While creating student take input their name . <br>\n",
    "Create one certificate for each student by taking input of number of days present in class. <br>"
   ]
  },
  {
   "cell_type": "code",
   "execution_count": null,
   "metadata": {},
   "outputs": [],
   "source": []
  },
  {
   "cell_type": "markdown",
   "metadata": {},
   "source": [
    "### 08) Define Time class with hour and minute as data member. Also define addition method to add two time objects."
   ]
  },
  {
   "cell_type": "code",
   "execution_count": null,
   "metadata": {},
   "outputs": [],
   "source": []
  },
  {
   "cell_type": "markdown",
   "metadata": {},
   "source": [
    "### 09) WAP to demonstrate inheritance in python."
   ]
  },
  {
   "cell_type": "code",
   "execution_count": null,
   "metadata": {},
   "outputs": [],
   "source": []
  },
  {
   "cell_type": "markdown",
   "metadata": {},
   "source": [
    "### 10) Create a child class Bus that will inherit all of the variables and methods of the Vehicle class\n",
    "class Vehicle:\n",
    "\n",
    "    def __init__(self, name, max_speed, mileage):\n",
    "        self.name = name\n",
    "        self.max_speed = max_speed\n",
    "        self.mileage = mileage\n",
    "        \n",
    "Create a Bus object that will inherit all of the variables and methods of the parent Vehicle class and display it.        "
   ]
  },
  {
   "cell_type": "code",
   "execution_count": null,
   "metadata": {},
   "outputs": [],
   "source": []
  },
  {
   "cell_type": "markdown",
   "metadata": {},
   "source": [
    "### 11)  Create a class hierarchy for different types of animals, with a parent Animal class and child classes for specific animals like Cat, Dog, and Bird."
   ]
  },
  {
   "cell_type": "code",
   "execution_count": null,
   "metadata": {},
   "outputs": [],
   "source": []
  },
  {
   "cell_type": "markdown",
   "metadata": {},
   "source": [
    "### 12) Create a class hierarchy for different types of vehicles, with a parent Vehicle class and child classes for specific vehicles like Car, Truck, and Motorcycle."
   ]
  },
  {
   "cell_type": "code",
   "execution_count": null,
   "metadata": {},
   "outputs": [],
   "source": []
  },
  {
   "cell_type": "markdown",
   "metadata": {},
   "source": [
    "### 13)  Create a class hierarchy for different types of bank accounts, with a parent Account class and child classes for specific account types like Checking, Savings, and Credit."
   ]
  },
  {
   "cell_type": "code",
   "execution_count": null,
   "metadata": {},
   "outputs": [],
   "source": []
  },
  {
   "cell_type": "markdown",
   "metadata": {},
   "source": [
    "### 14) Create a Shape class with a draw method that is not implemented. Create three child classes Rectangle, Circle, and Triangle that implement the draw method with their respective drawing behaviors. Create a list of Shape objects that includes one instance of each child class, and then iterate through the list and call the draw method on each object."
   ]
  },
  {
   "cell_type": "code",
   "execution_count": null,
   "metadata": {},
   "outputs": [],
   "source": []
  },
  {
   "cell_type": "markdown",
   "metadata": {},
   "source": [
    "### 15) Create a Person class with a constructor that takes two arguments name and age. Create a child class Employee that inherits from Person and adds a new attribute salary. Override the __init__ method in Employee to call the parent class's __init__ method using the super keyword, and then initialize the salary attribute."
   ]
  },
  {
   "cell_type": "code",
   "execution_count": null,
   "metadata": {},
   "outputs": [],
   "source": []
  }
 ],
 "metadata": {
  "kernelspec": {
   "display_name": "Python 3 (ipykernel)",
   "language": "python",
   "name": "python3"
  },
  "language_info": {
   "codemirror_mode": {
    "name": "ipython",
    "version": 3
   },
   "file_extension": ".py",
   "mimetype": "text/x-python",
   "name": "python",
   "nbconvert_exporter": "python",
   "pygments_lexer": "ipython3",
   "version": "3.9.12"
  }
 },
 "nbformat": 4,
 "nbformat_minor": 4
}
