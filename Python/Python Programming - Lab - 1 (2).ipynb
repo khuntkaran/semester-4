{
 "cells": [
  {
   "cell_type": "markdown",
   "metadata": {},
   "source": [
    "<a href='https://www.darshan.ac.in/'> <img src='https://www.darshan.ac.in/Content/media/DU_Logo.svg' width=\"250\" height=\"300\"/></a>\n",
    "<pre>\n",
    "<center><b><h1>Python Programming - 2101CS405</b></center>\n",
    "<center><b><h1>Lab - 1</b></center>    \n",
    "<pre>"
   ]
  },
  {
   "cell_type": "code",
   "execution_count": null,
   "metadata": {},
   "outputs": [],
   "source": []
  },
  {
   "cell_type": "code",
   "execution_count": null,
   "metadata": {},
   "outputs": [],
   "source": []
  },
  {
   "cell_type": "markdown",
   "metadata": {},
   "source": [
    "### 01) WAP to print “Hello World”"
   ]
  },
  {
   "cell_type": "code",
   "execution_count": 1,
   "metadata": {},
   "outputs": [
    {
     "name": "stdout",
     "output_type": "stream",
     "text": [
      "Hello World\n"
     ]
    }
   ],
   "source": [
    "print('Hello World')"
   ]
  },
  {
   "cell_type": "markdown",
   "metadata": {},
   "source": [
    "### 02) WAP to print your address i) using single print ii) using multiple print"
   ]
  },
  {
   "cell_type": "code",
   "execution_count": 3,
   "metadata": {},
   "outputs": [
    {
     "name": "stdout",
     "output_type": "stream",
     "text": [
      "Mahika\n",
      "Rajkot\n",
      "360002\n",
      "Mahika\n",
      "Rajkot\n",
      "360002\n"
     ]
    }
   ],
   "source": [
    "print('Mahika\\nRajkot\\n360002')\n",
    "print('Mahika')\n",
    "print('Rajkot')\n",
    "print('360002')"
   ]
  },
  {
   "cell_type": "markdown",
   "metadata": {},
   "source": [
    "### 03) WAP to print addition of 2 numbers (without input function)"
   ]
  },
  {
   "cell_type": "code",
   "execution_count": 4,
   "metadata": {},
   "outputs": [
    {
     "name": "stdout",
     "output_type": "stream",
     "text": [
      "15\n"
     ]
    }
   ],
   "source": [
    "a=5\n",
    "b=10\n",
    "print(a+b)"
   ]
  },
  {
   "cell_type": "markdown",
   "metadata": {},
   "source": [
    "### 04) WAP to calculate and print average of 2 numbers (without input function)"
   ]
  },
  {
   "cell_type": "code",
   "execution_count": 5,
   "metadata": {},
   "outputs": [
    {
     "name": "stdout",
     "output_type": "stream",
     "text": [
      "7.5\n"
     ]
    }
   ],
   "source": [
    "a=5\n",
    "b=10\n",
    "print((a+b)/2)"
   ]
  },
  {
   "cell_type": "markdown",
   "metadata": {},
   "source": [
    "### 05) WAP to add two number entered by user."
   ]
  },
  {
   "cell_type": "code",
   "execution_count": 9,
   "metadata": {},
   "outputs": [
    {
     "name": "stdout",
     "output_type": "stream",
     "text": [
      "Enter No1 : 5\n",
      "Enter No2 : 10\n",
      "15\n"
     ]
    }
   ],
   "source": [
    "a=int(input(\"Enter No1 : \"))\n",
    "b=int(input(\"Enter No2 : \"))\n",
    "print(a+b)"
   ]
  },
  {
   "cell_type": "markdown",
   "metadata": {},
   "source": [
    "### 06) WAP to calculate simple interest."
   ]
  },
  {
   "cell_type": "code",
   "execution_count": 17,
   "metadata": {},
   "outputs": [
    {
     "name": "stdout",
     "output_type": "stream",
     "text": [
      "Enter amount : 1000\n",
      "Enter percentage : 12\n",
      "Enter Year : 2\n",
      "240.0\n"
     ]
    }
   ],
   "source": [
    "a=int(input(\"Enter amount : \"))\n",
    "per=int(input(\"Enter percentage : \"))\n",
    "n= int(input(\"Enter Year : \"))\n",
    "print((per*a*n)/100)"
   ]
  },
  {
   "cell_type": "markdown",
   "metadata": {},
   "source": [
    "### 07) WAP Calculate Area and Circumfrence of Circle"
   ]
  },
  {
   "cell_type": "code",
   "execution_count": 3,
   "metadata": {},
   "outputs": [
    {
     "name": "stdout",
     "output_type": "stream",
     "text": [
      "Enter radius of Circle : 5\n",
      "Area of Circle =  78.5\n",
      "Circumfrence =  31.400000000000002\n"
     ]
    }
   ],
   "source": [
    "r=int(input(\"Enter radius of Circle : \"))\n",
    "print(\"Area of Circle = \",(r*r*3.14))\n",
    "print(\"Circumfrence = \",(2*3.14*r))"
   ]
  },
  {
   "cell_type": "markdown",
   "metadata": {},
   "source": [
    "### 08) WAP to print Multiplication table of given number without using loops."
   ]
  },
  {
   "cell_type": "code",
   "execution_count": 7,
   "metadata": {},
   "outputs": [
    {
     "name": "stdout",
     "output_type": "stream",
     "text": [
      "Enter Number : 5\n",
      "5  x 1 =  5\n",
      "5  x 2 =  10\n",
      "5  x 3 =  15\n",
      "5  x 4 =  20\n",
      "5  x 5 =  25\n",
      "5  x 6 =  30\n",
      "5  x 7 =  35\n",
      "5  x 8 =  40\n",
      "5  x 9 =  45\n",
      "5  x 10=  50\n"
     ]
    }
   ],
   "source": [
    "x=int(input(\"Enter Number : \"))\n",
    "print(x,\" x 1 = \",(x*1))\n",
    "print(x,\" x 2 = \",(x*2))\n",
    "print(x,\" x 3 = \",(x*3))\n",
    "print(x,\" x 4 = \",(x*4))\n",
    "print(x,\" x 5 = \",(x*5))\n",
    "print(x,\" x 6 = \",(x*6))\n",
    "print(x,\" x 7 = \",(x*7))\n",
    "print(x,\" x 8 = \",(x*8))\n",
    "print(x,\" x 9 = \",(x*9))\n",
    "print(x,\" x 10= \",(x*10))"
   ]
  },
  {
   "cell_type": "markdown",
   "metadata": {},
   "source": [
    "### 09) WAP to calculate Area of Triangle (hint: a = h * b * 0.5)"
   ]
  },
  {
   "cell_type": "code",
   "execution_count": 8,
   "metadata": {},
   "outputs": [
    {
     "name": "stdout",
     "output_type": "stream",
     "text": [
      "Enter Height : 1\n",
      "Enter Base : 2\n",
      "Area of triangle :  1.0\n"
     ]
    }
   ],
   "source": [
    "h=int(input(\"Enter Height : \"))\n",
    "b=int(input(\"Enter Base : \"))\n",
    "print(\"Area of triangle : \",(h*b*0.5))"
   ]
  },
  {
   "cell_type": "markdown",
   "metadata": {},
   "source": [
    "### 10) WAP to convert degree to Fahrenheit and vice versa."
   ]
  },
  {
   "cell_type": "code",
   "execution_count": 15,
   "metadata": {},
   "outputs": [
    {
     "name": "stdout",
     "output_type": "stream",
     "text": [
      "Enter degree : 5\n",
      "Fahrenheit ;  41.0\n",
      "Degree :  5.0\n"
     ]
    }
   ],
   "source": [
    "deg=float(input(\"Enter degree : \"))\n",
    "f=deg*(9/5)+32\n",
    "print(\"Fahrenheit ; \",f)\n",
    "d=(f-32)*(5/9)\n",
    "print(\"Degree : \",d)\n"
   ]
  },
  {
   "cell_type": "markdown",
   "metadata": {},
   "source": [
    "### 11) WAP to calculate total marks and Percentage."
   ]
  },
  {
   "cell_type": "code",
   "execution_count": 18,
   "metadata": {},
   "outputs": [
    {
     "name": "stdout",
     "output_type": "stream",
     "text": [
      "Enter Math Mark : 10\n",
      "Enter Physics Mark : 10\n",
      "Enter Chemistry Mark : 10\n",
      "Total Mark :  30\n",
      "Percentage :  10.0 %\n"
     ]
    }
   ],
   "source": [
    "math=int(input(\"Enter Math Mark : \"))\n",
    "phy=int(input(\"Enter Physics Mark : \"))\n",
    "che=int(input(\"Enter Chemistry Mark : \"))\n",
    "\n",
    "print(\"Total Mark : \",math+phy+che)\n",
    "print(\"Percentage : \",(math+phy+che)/3,\"%\")"
   ]
  },
  {
   "cell_type": "markdown",
   "metadata": {},
   "source": [
    "### 12) Compute distance between two points taking input from the user (Pythagorean Theorem)."
   ]
  },
  {
   "cell_type": "code",
   "execution_count": 5,
   "metadata": {},
   "outputs": [
    {
     "name": "stdout",
     "output_type": "stream",
     "text": [
      "Enter A to B : 7\n",
      "Enter B to C : 24\n",
      "A to C :  25.0\n"
     ]
    }
   ],
   "source": [
    "import math\n",
    "ab=int(input(\"Enter A to B : \"))\n",
    "bc=int(input(\"Enter B to C : \"))\n",
    "print(\"A to C : \",math.sqrt((ab*ab)+(bc*bc)))"
   ]
  },
  {
   "cell_type": "markdown",
   "metadata": {},
   "source": [
    "### 13) WAP to convert seconds into hours, minutes & seconds and print in HH:MM:SS\n",
    "[e.g. 10000 seconds mean 2:46:40 (2 Hours, 46 Minutes, 40Seconds)]"
   ]
  },
  {
   "cell_type": "code",
   "execution_count": 7,
   "metadata": {},
   "outputs": [
    {
     "name": "stdout",
     "output_type": "stream",
     "text": [
      "Enter Sec : 10000\n",
      "2 : 46 : 40\n"
     ]
    }
   ],
   "source": [
    "ss=int(input(\"Enter Sec : \"))\n",
    "mm=0\n",
    "hh=0\n",
    "while(ss>3600):\n",
    "    ss-=3600\n",
    "    hh+=1\n",
    "while(ss>60):\n",
    "    ss-=60\n",
    "    mm+=1\n",
    "print(hh,\":\",mm,\":\",ss)"
   ]
  },
  {
   "cell_type": "markdown",
   "metadata": {},
   "source": [
    "14) WAP to enter distance into kilometer and convert it into meter, feet,inches, and centimeter"
   ]
  },
  {
   "cell_type": "code",
   "execution_count": 10,
   "metadata": {},
   "outputs": [
    {
     "name": "stdout",
     "output_type": "stream",
     "text": [
      "Enter KM : 1\n",
      "meter :  1000\n",
      "feet :  3280.8399\n",
      "inches, :  39370.0787\n",
      "centimeter :  100000\n"
     ]
    }
   ],
   "source": [
    "km=int(input(\"Enter kilometer : \"))\n",
    "print(\"meter : \",km*1000)\n",
    "print(\"feet : \",km*3280.8399)\n",
    "print(\"inches, : \",km*39370.0787)\n",
    "print(\"centimeter : \",km*100000)"
   ]
  },
  {
   "cell_type": "code",
   "execution_count": null,
   "metadata": {},
   "outputs": [],
   "source": []
  }
 ],
 "metadata": {
  "kernelspec": {
   "display_name": "Python 3 (ipykernel)",
   "language": "python",
   "name": "python3"
  },
  "language_info": {
   "codemirror_mode": {
    "name": "ipython",
    "version": 3
   },
   "file_extension": ".py",
   "mimetype": "text/x-python",
   "name": "python",
   "nbconvert_exporter": "python",
   "pygments_lexer": "ipython3",
   "version": "3.9.7"
  }
 },
 "nbformat": 4,
 "nbformat_minor": 4
}
