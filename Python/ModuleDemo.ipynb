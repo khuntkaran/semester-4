{
 "cells": [
  {
   "cell_type": "markdown",
   "id": "fee5a251",
   "metadata": {},
   "source": [
    "### random module"
   ]
  },
  {
   "cell_type": "code",
   "execution_count": 1,
   "id": "4f92156c",
   "metadata": {},
   "outputs": [
    {
     "name": "stdout",
     "output_type": "stream",
     "text": [
      "0.7750203512251045\n"
     ]
    }
   ],
   "source": [
    "import random\n",
    "print(random.random())"
   ]
  },
  {
   "cell_type": "code",
   "execution_count": 5,
   "id": "58f36592",
   "metadata": {},
   "outputs": [
    {
     "name": "stdout",
     "output_type": "stream",
     "text": [
      "0.9560342718892494\n"
     ]
    }
   ],
   "source": [
    "random.seed(2)\n",
    "print(random.random())"
   ]
  },
  {
   "cell_type": "code",
   "execution_count": 11,
   "id": "53101041",
   "metadata": {},
   "outputs": [
    {
     "name": "stdout",
     "output_type": "stream",
     "text": [
      "95\n"
     ]
    }
   ],
   "source": [
    "print(random.randint(1,100))"
   ]
  },
  {
   "cell_type": "code",
   "execution_count": 17,
   "id": "2d59e071",
   "metadata": {},
   "outputs": [
    {
     "name": "stdout",
     "output_type": "stream",
     "text": [
      "20\n"
     ]
    }
   ],
   "source": [
    "print(random.randrange(0,30,5))"
   ]
  },
  {
   "cell_type": "code",
   "execution_count": 23,
   "id": "03e098d6",
   "metadata": {},
   "outputs": [
    {
     "name": "stdout",
     "output_type": "stream",
     "text": [
      "40\n"
     ]
    }
   ],
   "source": [
    "list1 = [10,20,30,40]\n",
    "print(random.choice(list1))"
   ]
  },
  {
   "cell_type": "code",
   "execution_count": 24,
   "id": "51aa8ceb",
   "metadata": {},
   "outputs": [
    {
     "name": "stdout",
     "output_type": "stream",
     "text": [
      "[20, 40, 10, 30]\n"
     ]
    }
   ],
   "source": [
    "random.shuffle(list1)\n",
    "print(list1)"
   ]
  },
  {
   "cell_type": "code",
   "execution_count": 28,
   "id": "55c97603",
   "metadata": {},
   "outputs": [
    {
     "name": "stdout",
     "output_type": "stream",
     "text": [
      "7.118054847858453\n"
     ]
    }
   ],
   "source": [
    "print(random.uniform(5,10))"
   ]
  },
  {
   "cell_type": "markdown",
   "id": "0121cea9",
   "metadata": {},
   "source": [
    "### Math Module"
   ]
  },
  {
   "cell_type": "code",
   "execution_count": 30,
   "id": "952c5c5a",
   "metadata": {},
   "outputs": [
    {
     "name": "stdout",
     "output_type": "stream",
     "text": [
      "e =  2.718281828459045\n"
     ]
    }
   ],
   "source": [
    "import math\n",
    "print(\"e = \",math.e)"
   ]
  },
  {
   "cell_type": "code",
   "execution_count": 31,
   "id": "7ca4c0f4",
   "metadata": {},
   "outputs": [
    {
     "name": "stdout",
     "output_type": "stream",
     "text": [
      "PI =  3.141592653589793\n"
     ]
    }
   ],
   "source": [
    "print(\"PI = \",math.pi)"
   ]
  },
  {
   "cell_type": "code",
   "execution_count": 32,
   "id": "4757449c",
   "metadata": {},
   "outputs": [
    {
     "name": "stdout",
     "output_type": "stream",
     "text": [
      "Tau =  6.283185307179586\n"
     ]
    }
   ],
   "source": [
    "print(\"Tau = \",math.tau)"
   ]
  },
  {
   "cell_type": "code",
   "execution_count": 33,
   "id": "9e415d1e",
   "metadata": {},
   "outputs": [
    {
     "name": "stdout",
     "output_type": "stream",
     "text": [
      "Ceil =  6\n"
     ]
    }
   ],
   "source": [
    "print(\"Ceil = \",math.ceil(5.6))"
   ]
  },
  {
   "cell_type": "code",
   "execution_count": 34,
   "id": "1f497862",
   "metadata": {},
   "outputs": [
    {
     "name": "stdout",
     "output_type": "stream",
     "text": [
      "Floor =  5\n"
     ]
    }
   ],
   "source": [
    "print(\"Floor = \",math.floor(5.6))"
   ]
  },
  {
   "cell_type": "code",
   "execution_count": 35,
   "id": "0804cdac",
   "metadata": {},
   "outputs": [
    {
     "name": "stdout",
     "output_type": "stream",
     "text": [
      "Factorial =  120\n"
     ]
    }
   ],
   "source": [
    "print(\"Factorial = \",math.factorial(5))"
   ]
  },
  {
   "cell_type": "code",
   "execution_count": 36,
   "id": "1200cc53",
   "metadata": {},
   "outputs": [
    {
     "name": "stdout",
     "output_type": "stream",
     "text": [
      "GCD =  3\n"
     ]
    }
   ],
   "source": [
    "print(\"GCD = \",math.gcd(15,3))"
   ]
  },
  {
   "cell_type": "code",
   "execution_count": 37,
   "id": "06863b5b",
   "metadata": {},
   "outputs": [
    {
     "name": "stdout",
     "output_type": "stream",
     "text": [
      "LCM =  15\n"
     ]
    }
   ],
   "source": [
    "print(\"LCM = \",math.lcm(15,3))"
   ]
  },
  {
   "cell_type": "code",
   "execution_count": 38,
   "id": "0600135e",
   "metadata": {},
   "outputs": [
    {
     "name": "stdout",
     "output_type": "stream",
     "text": [
      "Fabs =  15.0\n"
     ]
    }
   ],
   "source": [
    "print(\"Fabs = \",math.fabs(-15))"
   ]
  },
  {
   "cell_type": "code",
   "execution_count": 40,
   "id": "66e6e7b4",
   "metadata": {},
   "outputs": [
    {
     "name": "stdout",
     "output_type": "stream",
     "text": [
      "Exponential =  7.38905609893065\n"
     ]
    }
   ],
   "source": [
    "print(\"Exponential = \",math.exp(2))"
   ]
  },
  {
   "cell_type": "code",
   "execution_count": 43,
   "id": "4d756fee",
   "metadata": {},
   "outputs": [
    {
     "name": "stdout",
     "output_type": "stream",
     "text": [
      "Power =  8.0\n"
     ]
    }
   ],
   "source": [
    "print(\"Power = \",math.pow(2,3))"
   ]
  },
  {
   "cell_type": "code",
   "execution_count": 44,
   "id": "3d55b716",
   "metadata": {},
   "outputs": [
    {
     "name": "stdout",
     "output_type": "stream",
     "text": [
      "Log With Base 2=  5.0\n"
     ]
    }
   ],
   "source": [
    "print(\"Log With Base 2= \",math.log2(32))"
   ]
  },
  {
   "cell_type": "code",
   "execution_count": 46,
   "id": "f0e6ea37",
   "metadata": {},
   "outputs": [
    {
     "name": "stdout",
     "output_type": "stream",
     "text": [
      "Log With Base 10=  1.0\n"
     ]
    }
   ],
   "source": [
    "print(\"Log With Base 10= \",math.log10(10))"
   ]
  },
  {
   "cell_type": "code",
   "execution_count": 48,
   "id": "d03c5bde",
   "metadata": {},
   "outputs": [
    {
     "name": "stdout",
     "output_type": "stream",
     "text": [
      "Degree To Radian =  1.5707963267948966\n"
     ]
    }
   ],
   "source": [
    "print(\"Degree To Radian = \",math.radians(90))"
   ]
  },
  {
   "cell_type": "code",
   "execution_count": 49,
   "id": "ca0a0aad",
   "metadata": {},
   "outputs": [
    {
     "name": "stdout",
     "output_type": "stream",
     "text": [
      "Radian To Degree =  90.0\n"
     ]
    }
   ],
   "source": [
    "print(\"Radian To Degree = \",math.degrees(1.5707963267948966))"
   ]
  },
  {
   "cell_type": "code",
   "execution_count": 50,
   "id": "ebacc38e",
   "metadata": {},
   "outputs": [
    {
     "name": "stdout",
     "output_type": "stream",
     "text": [
      "Gamma =  1.0\n"
     ]
    }
   ],
   "source": [
    "print(\"Gamma = \",math.gamma(2))"
   ]
  },
  {
   "cell_type": "markdown",
   "id": "c9ef7af5",
   "metadata": {},
   "source": [
    "### Date Time Module"
   ]
  },
  {
   "cell_type": "code",
   "execution_count": 53,
   "id": "c6a14fc3",
   "metadata": {},
   "outputs": [
    {
     "name": "stdout",
     "output_type": "stream",
     "text": [
      "2023-02-08\n"
     ]
    }
   ],
   "source": [
    "import datetime\n",
    "d = datetime.date(2023,2,8)\n",
    "print(d)"
   ]
  },
  {
   "cell_type": "code",
   "execution_count": 55,
   "id": "18ee2f9e",
   "metadata": {},
   "outputs": [
    {
     "name": "stdout",
     "output_type": "stream",
     "text": [
      "2023-02-08\n"
     ]
    }
   ],
   "source": [
    "today = datetime.date.today()\n",
    "print(today)"
   ]
  },
  {
   "cell_type": "code",
   "execution_count": 58,
   "id": "f0346ba8",
   "metadata": {},
   "outputs": [
    {
     "name": "stdout",
     "output_type": "stream",
     "text": [
      "2023\n"
     ]
    }
   ],
   "source": [
    "print(today.year)"
   ]
  },
  {
   "cell_type": "code",
   "execution_count": 59,
   "id": "08ce00d5",
   "metadata": {},
   "outputs": [
    {
     "name": "stdout",
     "output_type": "stream",
     "text": [
      "2\n"
     ]
    }
   ],
   "source": [
    "print(today.month)"
   ]
  },
  {
   "cell_type": "code",
   "execution_count": 60,
   "id": "4cded813",
   "metadata": {},
   "outputs": [
    {
     "name": "stdout",
     "output_type": "stream",
     "text": [
      "8\n"
     ]
    }
   ],
   "source": [
    "print(today.day)"
   ]
  },
  {
   "cell_type": "code",
   "execution_count": 62,
   "id": "2ba01ff3",
   "metadata": {},
   "outputs": [
    {
     "name": "stdout",
     "output_type": "stream",
     "text": [
      "10:13:05.000005\n"
     ]
    }
   ],
   "source": [
    "t = datetime.time(10,13,5,5)\n",
    "print(t)"
   ]
  },
  {
   "cell_type": "code",
   "execution_count": 64,
   "id": "1590621c",
   "metadata": {},
   "outputs": [
    {
     "name": "stdout",
     "output_type": "stream",
     "text": [
      "10\n"
     ]
    }
   ],
   "source": [
    "print(t.hour)"
   ]
  },
  {
   "cell_type": "code",
   "execution_count": 65,
   "id": "71ac8e26",
   "metadata": {},
   "outputs": [
    {
     "name": "stdout",
     "output_type": "stream",
     "text": [
      "13\n"
     ]
    }
   ],
   "source": [
    "print(t.minute)"
   ]
  },
  {
   "cell_type": "code",
   "execution_count": 66,
   "id": "88ab5a50",
   "metadata": {},
   "outputs": [
    {
     "name": "stdout",
     "output_type": "stream",
     "text": [
      "5\n"
     ]
    }
   ],
   "source": [
    "print(t.second)"
   ]
  },
  {
   "cell_type": "code",
   "execution_count": 67,
   "id": "8b16af6d",
   "metadata": {},
   "outputs": [
    {
     "name": "stdout",
     "output_type": "stream",
     "text": [
      "5\n"
     ]
    }
   ],
   "source": [
    "print(t.microsecond)"
   ]
  },
  {
   "cell_type": "code",
   "execution_count": 68,
   "id": "169df798",
   "metadata": {},
   "outputs": [
    {
     "name": "stdout",
     "output_type": "stream",
     "text": [
      "2023-02-08 10:42:03.000005\n"
     ]
    }
   ],
   "source": [
    "dt = datetime.datetime(2023,2,8,10,42,3,5)\n",
    "print(dt)"
   ]
  },
  {
   "cell_type": "code",
   "execution_count": 69,
   "id": "2c377614",
   "metadata": {},
   "outputs": [
    {
     "name": "stdout",
     "output_type": "stream",
     "text": [
      "2023\n",
      "2\n",
      "8\n",
      "10\n",
      "42\n",
      "3\n",
      "5\n"
     ]
    }
   ],
   "source": [
    "print(dt.year)\n",
    "print(dt.month)\n",
    "print(dt.day)\n",
    "print(dt.hour)\n",
    "print(dt.minute)\n",
    "print(dt.second)\n",
    "print(dt.microsecond)"
   ]
  },
  {
   "cell_type": "code",
   "execution_count": 71,
   "id": "3861312a",
   "metadata": {},
   "outputs": [
    {
     "name": "stdout",
     "output_type": "stream",
     "text": [
      "2023-02-08 10:44:27.986348\n"
     ]
    }
   ],
   "source": [
    "print(datetime.datetime.now())"
   ]
  },
  {
   "cell_type": "code",
   "execution_count": 73,
   "id": "068d684b",
   "metadata": {},
   "outputs": [
    {
     "name": "stdout",
     "output_type": "stream",
     "text": [
      "2023-02-10 10:46:09.051443\n"
     ]
    }
   ],
   "source": [
    "delta = datetime.datetime.now()\n",
    "td = delta + datetime.timedelta(days=2)\n",
    "print(td)"
   ]
  },
  {
   "cell_type": "code",
   "execution_count": 74,
   "id": "5b11a81d",
   "metadata": {},
   "outputs": [
    {
     "name": "stdout",
     "output_type": "stream",
     "text": [
      "2023-02-01 10:46:46.818422\n"
     ]
    }
   ],
   "source": [
    "delta = datetime.datetime.now()\n",
    "td = delta - datetime.timedelta(weeks=1)\n",
    "print(td)"
   ]
  },
  {
   "cell_type": "code",
   "execution_count": 79,
   "id": "6bc425af",
   "metadata": {},
   "outputs": [
    {
     "name": "stdout",
     "output_type": "stream",
     "text": [
      "Wed\n",
      "Wednesday\n",
      "02\n",
      "46\n",
      "23\n",
      "2023\n"
     ]
    }
   ],
   "source": [
    "print(delta.strftime(\"%a\"))\n",
    "print(delta.strftime(\"%A\"))\n",
    "print(delta.strftime(\"%m\"))\n",
    "print(delta.strftime(\"%M\"))\n",
    "print(delta.strftime(\"%y\"))\n",
    "print(delta.strftime(\"%Y\"))"
   ]
  },
  {
   "cell_type": "code",
   "execution_count": null,
   "id": "9785c7c1",
   "metadata": {},
   "outputs": [],
   "source": []
  }
 ],
 "metadata": {
  "kernelspec": {
   "display_name": "Python 3 (ipykernel)",
   "language": "python",
   "name": "python3"
  },
  "language_info": {
   "codemirror_mode": {
    "name": "ipython",
    "version": 3
   },
   "file_extension": ".py",
   "mimetype": "text/x-python",
   "name": "python",
   "nbconvert_exporter": "python",
   "pygments_lexer": "ipython3",
   "version": "3.9.12"
  }
 },
 "nbformat": 4,
 "nbformat_minor": 5
}
